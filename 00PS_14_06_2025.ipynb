{
  "nbformat": 4,
  "nbformat_minor": 0,
  "metadata": {
    "colab": {
      "provenance": [],
      "include_colab_link": true
    },
    "kernelspec": {
      "name": "python3",
      "display_name": "Python 3"
    },
    "language_info": {
      "name": "python"
    }
  },
  "cells": [
    {
      "cell_type": "markdown",
      "metadata": {
        "id": "view-in-github",
        "colab_type": "text"
      },
      "source": [
        "<a href=\"https://colab.research.google.com/github/paedru/KaplanDemo/blob/main/00PS_14_06_2025.ipynb\" target=\"_parent\"><img src=\"https://colab.research.google.com/assets/colab-badge.svg\" alt=\"Open In Colab\"/></a>"
      ]
    },
    {
      "cell_type": "markdown",
      "source": [
        "# Object Oriented Programming\n",
        "\n",
        "We are creating classes to write our code.\n",
        "\n",
        "To access the properties of our class we were taking the help of our students.\n",
        "\n",
        "These students are nothing but the objects.\n",
        "\n",
        "With the help of objects i am able to access the functions/properties of my class."
      ],
      "metadata": {
        "id": "n8Geh9tG3xwT"
      }
    },
    {
      "cell_type": "code",
      "execution_count": null,
      "metadata": {
        "id": "8cuwfF6HyWvB"
      },
      "outputs": [],
      "source": [
        "# class creation\n",
        "class Ninth:\n",
        "  def teachers(self):\n",
        "    print(\"There are 5 teachers in the class\")\n",
        "\n",
        "  def subjects(self):\n",
        "    print(\"TRhere are 5 subjects in the class\")\n",
        "\n",
        "  def exams(self):\n",
        "    print(\"The exams will start from 10 june\")"
      ]
    },
    {
      "cell_type": "code",
      "source": [
        "#Objects creation\n",
        "stud=Ninth()\n",
        "stud.teachers()\n",
        "stud.exams()\n",
        "stud.subjects()"
      ],
      "metadata": {
        "colab": {
          "base_uri": "https://localhost:8080/"
        },
        "id": "Qpu8RApi63Uo",
        "outputId": "e10be739-3f55-40a2-e7be-87b29348c21e"
      },
      "execution_count": null,
      "outputs": [
        {
          "output_type": "stream",
          "name": "stdout",
          "text": [
            "There are 5 teachers in the class\n",
            "The exams will start from 10 june\n",
            "TRhere are 5 subjects in the class\n"
          ]
        }
      ]
    },
    {
      "cell_type": "code",
      "source": [
        "li=[23,45,34,78,10]\n",
        "print(li)\n",
        "print(type(li))"
      ],
      "metadata": {
        "colab": {
          "base_uri": "https://localhost:8080/"
        },
        "id": "gm9oXFt87IX_",
        "outputId": "c509f1b3-56a5-4304-c331-aba154f341f4"
      },
      "execution_count": null,
      "outputs": [
        {
          "output_type": "stream",
          "name": "stdout",
          "text": [
            "[23, 45, 34, 78, 10]\n",
            "<class 'list'>\n"
          ]
        }
      ]
    },
    {
      "cell_type": "code",
      "source": [
        "li.append(23)"
      ],
      "metadata": {
        "id": "gD-npSY19Hbo"
      },
      "execution_count": null,
      "outputs": []
    },
    {
      "cell_type": "code",
      "source": [
        "help(list)"
      ],
      "metadata": {
        "colab": {
          "base_uri": "https://localhost:8080/"
        },
        "id": "fwMANN828fHp",
        "outputId": "af9538bb-1fd7-4216-df5c-d4f27551c8ea"
      },
      "execution_count": null,
      "outputs": [
        {
          "output_type": "stream",
          "name": "stdout",
          "text": [
            "Help on class list in module builtins:\n",
            "\n",
            "class list(object)\n",
            " |  list(iterable=(), /)\n",
            " |  \n",
            " |  Built-in mutable sequence.\n",
            " |  \n",
            " |  If no argument is given, the constructor creates a new empty list.\n",
            " |  The argument must be an iterable if specified.\n",
            " |  \n",
            " |  Methods defined here:\n",
            " |  \n",
            " |  __add__(self, value, /)\n",
            " |      Return self+value.\n",
            " |  \n",
            " |  __contains__(self, key, /)\n",
            " |      Return key in self.\n",
            " |  \n",
            " |  __delitem__(self, key, /)\n",
            " |      Delete self[key].\n",
            " |  \n",
            " |  __eq__(self, value, /)\n",
            " |      Return self==value.\n",
            " |  \n",
            " |  __ge__(self, value, /)\n",
            " |      Return self>=value.\n",
            " |  \n",
            " |  __getattribute__(self, name, /)\n",
            " |      Return getattr(self, name).\n",
            " |  \n",
            " |  __getitem__(...)\n",
            " |      x.__getitem__(y) <==> x[y]\n",
            " |  \n",
            " |  __gt__(self, value, /)\n",
            " |      Return self>value.\n",
            " |  \n",
            " |  __iadd__(self, value, /)\n",
            " |      Implement self+=value.\n",
            " |  \n",
            " |  __imul__(self, value, /)\n",
            " |      Implement self*=value.\n",
            " |  \n",
            " |  __init__(self, /, *args, **kwargs)\n",
            " |      Initialize self.  See help(type(self)) for accurate signature.\n",
            " |  \n",
            " |  __iter__(self, /)\n",
            " |      Implement iter(self).\n",
            " |  \n",
            " |  __le__(self, value, /)\n",
            " |      Return self<=value.\n",
            " |  \n",
            " |  __len__(self, /)\n",
            " |      Return len(self).\n",
            " |  \n",
            " |  __lt__(self, value, /)\n",
            " |      Return self<value.\n",
            " |  \n",
            " |  __mul__(self, value, /)\n",
            " |      Return self*value.\n",
            " |  \n",
            " |  __ne__(self, value, /)\n",
            " |      Return self!=value.\n",
            " |  \n",
            " |  __repr__(self, /)\n",
            " |      Return repr(self).\n",
            " |  \n",
            " |  __reversed__(self, /)\n",
            " |      Return a reverse iterator over the list.\n",
            " |  \n",
            " |  __rmul__(self, value, /)\n",
            " |      Return value*self.\n",
            " |  \n",
            " |  __setitem__(self, key, value, /)\n",
            " |      Set self[key] to value.\n",
            " |  \n",
            " |  __sizeof__(self, /)\n",
            " |      Return the size of the list in memory, in bytes.\n",
            " |  \n",
            " |  append(self, object, /)\n",
            " |      Append object to the end of the list.\n",
            " |  \n",
            " |  clear(self, /)\n",
            " |      Remove all items from list.\n",
            " |  \n",
            " |  copy(self, /)\n",
            " |      Return a shallow copy of the list.\n",
            " |  \n",
            " |  count(self, value, /)\n",
            " |      Return number of occurrences of value.\n",
            " |  \n",
            " |  extend(self, iterable, /)\n",
            " |      Extend list by appending elements from the iterable.\n",
            " |  \n",
            " |  index(self, value, start=0, stop=9223372036854775807, /)\n",
            " |      Return first index of value.\n",
            " |      \n",
            " |      Raises ValueError if the value is not present.\n",
            " |  \n",
            " |  insert(self, index, object, /)\n",
            " |      Insert object before index.\n",
            " |  \n",
            " |  pop(self, index=-1, /)\n",
            " |      Remove and return item at index (default last).\n",
            " |      \n",
            " |      Raises IndexError if list is empty or index is out of range.\n",
            " |  \n",
            " |  remove(self, value, /)\n",
            " |      Remove first occurrence of value.\n",
            " |      \n",
            " |      Raises ValueError if the value is not present.\n",
            " |  \n",
            " |  reverse(self, /)\n",
            " |      Reverse *IN PLACE*.\n",
            " |  \n",
            " |  sort(self, /, *, key=None, reverse=False)\n",
            " |      Sort the list in ascending order and return None.\n",
            " |      \n",
            " |      The sort is in-place (i.e. the list itself is modified) and stable (i.e. the\n",
            " |      order of two equal elements is maintained).\n",
            " |      \n",
            " |      If a key function is given, apply it once to each list item and sort them,\n",
            " |      ascending or descending, according to their function values.\n",
            " |      \n",
            " |      The reverse flag can be set to sort in descending order.\n",
            " |  \n",
            " |  ----------------------------------------------------------------------\n",
            " |  Class methods defined here:\n",
            " |  \n",
            " |  __class_getitem__(...)\n",
            " |      See PEP 585\n",
            " |  \n",
            " |  ----------------------------------------------------------------------\n",
            " |  Static methods defined here:\n",
            " |  \n",
            " |  __new__(*args, **kwargs)\n",
            " |      Create and return a new object.  See help(type) for accurate signature.\n",
            " |  \n",
            " |  ----------------------------------------------------------------------\n",
            " |  Data and other attributes defined here:\n",
            " |  \n",
            " |  __hash__ = None\n",
            "\n"
          ]
        }
      ]
    },
    {
      "cell_type": "markdown",
      "source": [
        "# Self Keyword\n",
        "\n",
        "It is nothing but the refrence of the object."
      ],
      "metadata": {
        "id": "NYt1UtIb9-Sj"
      }
    },
    {
      "cell_type": "code",
      "source": [
        "class Ninth:\n",
        "  def details(self,name,roll_no):\n",
        "    self.name=name\n",
        "    self.roll_no=roll_no\n",
        "\n",
        "  def subjects(self):\n",
        "    print(\"You have 10 subjects in the class\")"
      ],
      "metadata": {
        "id": "SsdRNRfO9DTb"
      },
      "execution_count": null,
      "outputs": []
    },
    {
      "cell_type": "code",
      "source": [
        "stud1=Ninth()\n",
        "stud1.details(\"Manish\",24)"
      ],
      "metadata": {
        "id": "5AjZcliz-YBF"
      },
      "execution_count": null,
      "outputs": []
    },
    {
      "cell_type": "code",
      "source": [
        "stud2=Ninth()\n",
        "stud2.details(\"Shilpa\",35)"
      ],
      "metadata": {
        "id": "zq2dSN-9-f4J"
      },
      "execution_count": null,
      "outputs": []
    },
    {
      "cell_type": "code",
      "source": [
        "class Ninth:\n",
        "  def details(self,name,marks):\n",
        "    self.name=name\n",
        "    self.marks=marks\n",
        "\n",
        "  def show_details(self):\n",
        "    print(\"Name\",self.name)\n",
        "    print(\"Marks\",self.marks)"
      ],
      "metadata": {
        "id": "3TJ_bfFK-3Gb"
      },
      "execution_count": null,
      "outputs": []
    },
    {
      "cell_type": "code",
      "source": [
        "stud1=Ninth()\n",
        "stud2=Ninth()"
      ],
      "metadata": {
        "id": "4fLnefdEABt8"
      },
      "execution_count": null,
      "outputs": []
    },
    {
      "cell_type": "code",
      "source": [
        "stud1.details(\"Pragati\",80)"
      ],
      "metadata": {
        "id": "CdgOxLggAFij"
      },
      "execution_count": null,
      "outputs": []
    },
    {
      "cell_type": "code",
      "source": [
        "stud1.show_details()"
      ],
      "metadata": {
        "colab": {
          "base_uri": "https://localhost:8080/"
        },
        "id": "Ah2nNCGqASIv",
        "outputId": "bc16efdf-5186-45c9-f2da-318a2e72b707"
      },
      "execution_count": null,
      "outputs": [
        {
          "output_type": "stream",
          "name": "stdout",
          "text": [
            "Name Pragati\n",
            "Marks 80\n"
          ]
        }
      ]
    },
    {
      "cell_type": "code",
      "source": [
        "stud2.details(\"Sanjay\",90)"
      ],
      "metadata": {
        "id": "TI5WJuDrATxk"
      },
      "execution_count": null,
      "outputs": []
    },
    {
      "cell_type": "code",
      "source": [
        "stud2.show_details()"
      ],
      "metadata": {
        "colab": {
          "base_uri": "https://localhost:8080/"
        },
        "id": "Qfpsbdr3A70R",
        "outputId": "cd9c90f6-ca37-4cf2-bd4e-805c6d9447e1"
      },
      "execution_count": null,
      "outputs": [
        {
          "output_type": "stream",
          "name": "stdout",
          "text": [
            "Name Sanjay\n",
            "Marks 90\n"
          ]
        }
      ]
    },
    {
      "cell_type": "code",
      "source": [
        "#class creation--done\n",
        "#object creation---done\n",
        "#self keyword--done"
      ],
      "metadata": {
        "id": "pS25j_mlA9Td"
      },
      "execution_count": null,
      "outputs": []
    },
    {
      "cell_type": "code",
      "source": [
        "class Blueprint:\n",
        "  def essential(self):\n",
        "    print(\"I need brick,iron,tiles ,money\")\n",
        "  def land_area(self):\n",
        "    print(\"I need the size of the place\")\n",
        "  def architecture(self):\n",
        "    print(\"here we will design your house\")\n",
        "  def interior(self):\n",
        "    print(\"We will do the interior of your house\")"
      ],
      "metadata": {
        "id": "5CJ58w5cCE8s"
      },
      "execution_count": null,
      "outputs": []
    },
    {
      "cell_type": "code",
      "source": [
        "#code reusability\n",
        "#code readability"
      ],
      "metadata": {
        "id": "U8rFvHziCkyU"
      },
      "execution_count": null,
      "outputs": []
    },
    {
      "cell_type": "code",
      "source": [
        "class Student:\n",
        "  name=\"shilpa\"\n",
        "  marks=90"
      ],
      "metadata": {
        "id": "f6lnICBvFF4q"
      },
      "execution_count": null,
      "outputs": []
    },
    {
      "cell_type": "code",
      "source": [
        "ob=Student()\n",
        "ob.name=100\n",
        "print(ob.name)\n",
        "ob.marks"
      ],
      "metadata": {
        "colab": {
          "base_uri": "https://localhost:8080/"
        },
        "id": "Q_eit1WfFjbq",
        "outputId": "bc39031b-59e3-4842-92ce-d6bbb80470f5"
      },
      "execution_count": null,
      "outputs": [
        {
          "output_type": "stream",
          "name": "stdout",
          "text": [
            "100\n"
          ]
        },
        {
          "output_type": "execute_result",
          "data": {
            "text/plain": [
              "90"
            ]
          },
          "metadata": {},
          "execution_count": 32
        }
      ]
    },
    {
      "cell_type": "markdown",
      "source": [
        "# Constructor are special type of fxns that executes by default whenever we create the object of our class.\n",
        "\n",
        "# Whenever wehave such fxns that will be mandatory for every object of our class then we use the constructor."
      ],
      "metadata": {
        "id": "MIXCyJ4WFz-3"
      }
    },
    {
      "cell_type": "code",
      "source": [
        "class RegistrationForm:\n",
        "  def __init__(self,name,address,adhar_no):      #__init__ is use for constructor\n",
        "    self.name=name\n",
        "    self.address=address\n",
        "    self.adhar_no=adhar_no\n",
        "\n",
        "  def portal(self):\n",
        "    print(\"You can access the portal\")\n",
        "\n",
        "  def update_details(self):\n",
        "    print(\"You can update your details\")"
      ],
      "metadata": {
        "id": "BvkSP0EJFmDi"
      },
      "execution_count": null,
      "outputs": []
    },
    {
      "cell_type": "code",
      "source": [
        "ob1=RegistrationForm(\"Sanjay\",\"Pune\",383838430)"
      ],
      "metadata": {
        "id": "Of7TUoJGGtAE"
      },
      "execution_count": null,
      "outputs": []
    },
    {
      "cell_type": "code",
      "source": [
        "ob1.update_details()"
      ],
      "metadata": {
        "colab": {
          "base_uri": "https://localhost:8080/"
        },
        "id": "j9FH7KSJG1mT",
        "outputId": "853974a9-ac62-45ce-fb2d-43fda6b2a2bf"
      },
      "execution_count": null,
      "outputs": [
        {
          "output_type": "stream",
          "name": "stdout",
          "text": [
            "You can update your details\n"
          ]
        }
      ]
    },
    {
      "cell_type": "code",
      "source": [
        "ob2=RegistrationForm(\"Shilpa\",\"UP\",36373983)"
      ],
      "metadata": {
        "id": "om-um07KG-J-"
      },
      "execution_count": null,
      "outputs": []
    },
    {
      "cell_type": "code",
      "source": [
        "ob2.portal()"
      ],
      "metadata": {
        "colab": {
          "base_uri": "https://localhost:8080/"
        },
        "id": "834yRDJEHDux",
        "outputId": "7a96a56b-6631-4321-827e-ec4f012f0266"
      },
      "execution_count": null,
      "outputs": [
        {
          "output_type": "stream",
          "name": "stdout",
          "text": [
            "You can access the portal\n"
          ]
        }
      ]
    },
    {
      "cell_type": "code",
      "source": [
        "ob2.update_details()"
      ],
      "metadata": {
        "colab": {
          "base_uri": "https://localhost:8080/"
        },
        "id": "8pns2tj3HKGK",
        "outputId": "7e5c4883-91d6-46a6-a6b5-beb6f9630945"
      },
      "execution_count": null,
      "outputs": [
        {
          "output_type": "stream",
          "name": "stdout",
          "text": [
            "You can update your details\n"
          ]
        }
      ]
    },
    {
      "cell_type": "code",
      "source": [
        "ob3=RegistrationForm(\"Harhsa\",\"Gujarat\",37434345)"
      ],
      "metadata": {
        "id": "ETgomAvpHMzv"
      },
      "execution_count": null,
      "outputs": []
    },
    {
      "cell_type": "code",
      "source": [
        "ob3.portal()"
      ],
      "metadata": {
        "colab": {
          "base_uri": "https://localhost:8080/"
        },
        "id": "4515pW04HPb2",
        "outputId": "c66267a6-2c1a-474f-8ed7-50ffd7b618f8"
      },
      "execution_count": null,
      "outputs": [
        {
          "output_type": "stream",
          "name": "stdout",
          "text": [
            "You can access the portal\n"
          ]
        }
      ]
    },
    {
      "cell_type": "code",
      "source": [
        "ob3.update_details()"
      ],
      "metadata": {
        "colab": {
          "base_uri": "https://localhost:8080/"
        },
        "id": "E2PYro32HrJR",
        "outputId": "7fef263f-fa11-45c9-c790-27cfa90bfaad"
      },
      "execution_count": null,
      "outputs": [
        {
          "output_type": "stream",
          "name": "stdout",
          "text": [
            "You can update your details\n"
          ]
        }
      ]
    },
    {
      "cell_type": "code",
      "source": [
        "#I got some order that everyone should register his details"
      ],
      "metadata": {
        "id": "1VWe_6jcHTSX"
      },
      "execution_count": null,
      "outputs": []
    },
    {
      "cell_type": "code",
      "source": [
        "#Constructor we use whenever we want to make a fucntion mandatory for every object."
      ],
      "metadata": {
        "id": "nhkGkL4dIFdh"
      },
      "execution_count": null,
      "outputs": []
    },
    {
      "cell_type": "code",
      "source": [
        "#Create a class hotel and inside the class make a function for greeting and that function should be mandatory for every object.\n",
        "class Hotel:\n",
        "  def __init__(self):\n",
        "    print(\"Good Morning,Welcome to our hotel\")\n",
        "\n",
        "  def room(self):\n",
        "    print(\"You can acces the room\")\n",
        "  def food(self):\n",
        "    print(\"You can access the food\")"
      ],
      "metadata": {
        "id": "FuXoKhJBKj5c"
      },
      "execution_count": null,
      "outputs": []
    },
    {
      "cell_type": "code",
      "source": [
        "ob=Hotel()"
      ],
      "metadata": {
        "colab": {
          "base_uri": "https://localhost:8080/"
        },
        "id": "qf9Ak4ywSV-E",
        "outputId": "b5d891e7-d686-4824-dbaa-b44aaf4c909b"
      },
      "execution_count": null,
      "outputs": [
        {
          "output_type": "stream",
          "name": "stdout",
          "text": [
            "Good Morning,Welcome to our hotel\n"
          ]
        }
      ]
    },
    {
      "cell_type": "code",
      "source": [
        "ob1=Hotel()"
      ],
      "metadata": {
        "colab": {
          "base_uri": "https://localhost:8080/"
        },
        "id": "nguaemSISYAq",
        "outputId": "680fed52-fd42-4573-d7f0-6b65c2774b9f"
      },
      "execution_count": null,
      "outputs": [
        {
          "output_type": "stream",
          "name": "stdout",
          "text": [
            "Good Morning,Welcome to our hotel\n"
          ]
        }
      ]
    },
    {
      "cell_type": "code",
      "source": [
        "ob2=Hotel()"
      ],
      "metadata": {
        "colab": {
          "base_uri": "https://localhost:8080/"
        },
        "id": "kOuFNVtdSaaF",
        "outputId": "98cfb076-83d7-46fe-87ec-0ef757edf1bc"
      },
      "execution_count": null,
      "outputs": [
        {
          "output_type": "stream",
          "name": "stdout",
          "text": [
            "Good Morning,Welcome to our hotel\n"
          ]
        }
      ]
    },
    {
      "cell_type": "code",
      "source": [
        "#Pillers of oops-\n",
        "#Inheritance\n",
        "#Polymorphism\n",
        "#Encapsulation\n",
        "#Abstraction"
      ],
      "metadata": {
        "id": "O8kUrIXZSb-i"
      },
      "execution_count": null,
      "outputs": []
    },
    {
      "cell_type": "markdown",
      "source": [
        "# Inheritance"
      ],
      "metadata": {
        "id": "S7jp-8KUS5sc"
      }
    },
    {
      "cell_type": "code",
      "source": [
        "class Father:                         #The class that we inherit that is called as Parent class\n",
        "  def car(self):\n",
        "    print(\"This is our car\")\n",
        "\n",
        "  def house(self):\n",
        "    print(\"This is our house\")\n",
        "\n",
        "class Son(Father):        #Inherited the father class in my son classs--child class\n",
        "  def room(self):\n",
        "    print(\"This is my room\")\n",
        "\n",
        "  def bike(self):\n",
        "    print(\"This is my bike\")\n",
        "\n",
        "# i want to access the property of Father class in my son class"
      ],
      "metadata": {
        "id": "mexiJHHSS7RI"
      },
      "execution_count": null,
      "outputs": []
    },
    {
      "cell_type": "code",
      "source": [
        "ob=Son()\n",
        "ob.room()\n",
        "ob.bike()\n",
        "ob.car()\n",
        "ob.house()"
      ],
      "metadata": {
        "colab": {
          "base_uri": "https://localhost:8080/"
        },
        "id": "cZahinTpVUQg",
        "outputId": "dd6ab46a-836b-4fdb-abd5-9da90760250e"
      },
      "execution_count": null,
      "outputs": [
        {
          "output_type": "stream",
          "name": "stdout",
          "text": [
            "This is my room\n",
            "This is my bike\n",
            "This is our car\n",
            "This is our house\n"
          ]
        }
      ]
    },
    {
      "cell_type": "markdown",
      "source": [
        "# Hierarical Inheritance:One Parent class and Multiple child class."
      ],
      "metadata": {
        "id": "y64yE1e-WJzC"
      }
    },
    {
      "cell_type": "code",
      "source": [
        "class Teacher:                 #Parent Class\n",
        "  def python(self):\n",
        "    print(\"You can find the python modules\")\n",
        "\n",
        "  def DsA(self):\n",
        "    print(\"You can learn dsa here\")\n",
        "\n",
        "class Online_teaching(Teacher):   #Child class\n",
        "  def exams(self):\n",
        "    print(\"You have your exams between 4-5 PM\")\n",
        "\n",
        "  def timings(self):\n",
        "    print(\"Our class timings are 9-10 PM\")\n",
        "\n",
        "\n",
        "class Offline_Teaching(Teacher):   #child class\n",
        "  def timings(self):\n",
        "    print(\"Our class timings are 10-11 PM\")\n",
        "\n",
        "  def syllabus(self):\n",
        "    print(\"We have many topics to cover\")\n"
      ],
      "metadata": {
        "id": "sGCBGVajVW14"
      },
      "execution_count": null,
      "outputs": []
    },
    {
      "cell_type": "code",
      "source": [
        "Sanjay=Online_teaching()\n",
        "Rashmi=Offline_Teaching()\n",
        "lavanya=Teacher()"
      ],
      "metadata": {
        "id": "3I8ma9gxXUb8"
      },
      "execution_count": null,
      "outputs": []
    },
    {
      "cell_type": "code",
      "source": [
        "Sanjay.exams()\n",
        "Sanjay.timings()\n",
        "Sanjay.python()\n",
        "Sanjay.DsA()"
      ],
      "metadata": {
        "colab": {
          "base_uri": "https://localhost:8080/"
        },
        "id": "1ZytlG6hXY2J",
        "outputId": "3da7fdbe-c520-477a-84a4-a87aa937d9a7"
      },
      "execution_count": null,
      "outputs": [
        {
          "output_type": "stream",
          "name": "stdout",
          "text": [
            "You have your exams between 4-5 PM\n",
            "Our class timings are 9-10 PM\n",
            "You can find the python modules\n",
            "You can learn dsa here\n"
          ]
        }
      ]
    },
    {
      "cell_type": "code",
      "source": [
        "Rashmi.syllabus()\n",
        "Rashmi.timings()\n",
        "Rashmi.DsA()\n",
        "Rashmi.python()"
      ],
      "metadata": {
        "colab": {
          "base_uri": "https://localhost:8080/"
        },
        "id": "qEZM7WXnXf8S",
        "outputId": "c8999aa6-a553-45ea-cc91-0d9bca24df59"
      },
      "execution_count": null,
      "outputs": [
        {
          "output_type": "stream",
          "name": "stdout",
          "text": [
            "We have many topics to cover\n",
            "Our class timings are 10-11 PM\n",
            "You can learn dsa here\n",
            "You can find the python modules\n"
          ]
        }
      ]
    },
    {
      "cell_type": "markdown",
      "source": [
        "# Multiple Inheritance:When a class inherit from multiple parent class."
      ],
      "metadata": {
        "id": "C-uC_UUMYbFW"
      }
    },
    {
      "cell_type": "code",
      "source": [
        "class Father:\n",
        "  def car(self):\n",
        "    print(\"This is our car\")\n",
        "  def house(self):\n",
        "    print(\"This is our house\")\n",
        "\n",
        "class Mother:\n",
        "  def garden(self):\n",
        "    print(\"This is our garden\")\n",
        "\n",
        "  def scooty(self):\n",
        "    print(\"This is our scooty\")\n",
        "\n",
        "class Son(Father,Mother):\n",
        "  def room(self):\n",
        "    print(\"This is my room\")\n",
        "\n",
        "  def bike(self):\n",
        "    print(\"This is my bike\")"
      ],
      "metadata": {
        "id": "WrR5KWd8Xm6O"
      },
      "execution_count": null,
      "outputs": []
    },
    {
      "cell_type": "code",
      "source": [
        "ob=Son()\n",
        "ob.bike()\n",
        "ob.room()\n",
        "ob.car()\n",
        "ob.garden()"
      ],
      "metadata": {
        "colab": {
          "base_uri": "https://localhost:8080/"
        },
        "id": "BJrCFbnRZOV4",
        "outputId": "819312c1-4fb4-42bc-804f-7a9b30fab774"
      },
      "execution_count": null,
      "outputs": [
        {
          "output_type": "stream",
          "name": "stdout",
          "text": [
            "This is my bike\n",
            "This is my room\n",
            "This is our car\n",
            "This is our garden\n"
          ]
        }
      ]
    },
    {
      "cell_type": "markdown",
      "source": [
        "# Multi level Inheritance"
      ],
      "metadata": {
        "id": "4GcuqYB3Z2N5"
      }
    },
    {
      "cell_type": "code",
      "source": [
        "class IIT:\n",
        "  def classes(self):\n",
        "    print(\"These are the classes\")\n",
        "\n",
        "  def events(self):\n",
        "    print(\"These are the events\")\n",
        "\n",
        "\n",
        "class Intellipaat(IIT):\n",
        "  def course(self):\n",
        "    print(\"Thse are our courses\")\n",
        "\n",
        "  def sessions(self):\n",
        "    print(\"These are our sessions\")\n",
        "\n",
        "\n",
        "class Learners(Intellipaat):\n",
        "  def LMS(self):\n",
        "    print(\"This is your LMS\")\n",
        "\n",
        "  def whatsapp_grp(self):\n",
        "    print(\"This is our whatsapp grp\")"
      ],
      "metadata": {
        "id": "Am1XT1ZIZRgL"
      },
      "execution_count": null,
      "outputs": []
    },
    {
      "cell_type": "code",
      "source": [
        "obj=Learners()\n",
        "obj.LMS()\n",
        "obj.whatsapp_grp()\n",
        "obj.sessions()\n",
        "obj.course()\n",
        "obj.classes()\n",
        "obj.events()"
      ],
      "metadata": {
        "colab": {
          "base_uri": "https://localhost:8080/"
        },
        "id": "sotI_jmua4h7",
        "outputId": "e412b0fd-829c-4c86-afa3-1939c453c15f"
      },
      "execution_count": null,
      "outputs": [
        {
          "output_type": "stream",
          "name": "stdout",
          "text": [
            "This is your LMS\n",
            "This is our whatsapp grp\n",
            "These are our sessions\n",
            "Thse are our courses\n",
            "These are the classes\n",
            "These are the events\n"
          ]
        }
      ]
    },
    {
      "cell_type": "markdown",
      "source": [
        "# Hybrid Inheritance: Combination of two or more Inhetitance."
      ],
      "metadata": {
        "id": "i3r5n9f0celJ"
      }
    },
    {
      "cell_type": "code",
      "source": [
        "class Grandfather:\n",
        "  def property(self):                           #Hierarichal\n",
        "    print(\"This is our property\")\n",
        "\n",
        "  def house(self):\n",
        "    print(\"This is our house\")\n",
        "\n",
        "class Father(Grandfather):\n",
        "  def car(self):\n",
        "    print(\"This is my car\")\n",
        "\n",
        "  def garden(self):\n",
        "    print(\"This is our garden\")\n",
        "\n",
        "class Uncle(Grandfather):\n",
        "  def book(self):\n",
        "    print(\"This is our book\")\n",
        "\n",
        "  def pen(self):\n",
        "    print(\"This is our pen\")\n",
        "\n",
        "class Son(Father,Uncle):             #Multiple\n",
        "  def room(self):\n",
        "    print(\"This is my room\")\n",
        "\n",
        "  def phone(self):\n",
        "    print(\"This is my phone\")"
      ],
      "metadata": {
        "id": "rvWxFIyJa7mg"
      },
      "execution_count": null,
      "outputs": []
    },
    {
      "cell_type": "code",
      "source": [
        "ob=Son()\n",
        "ob.room()\n",
        "ob.car()\n",
        "ob.pen()\n",
        "ob.property()"
      ],
      "metadata": {
        "colab": {
          "base_uri": "https://localhost:8080/"
        },
        "id": "OJmWqYgTfIKk",
        "outputId": "6806ded9-cad9-4388-a731-536d03264852"
      },
      "execution_count": null,
      "outputs": [
        {
          "output_type": "stream",
          "name": "stdout",
          "text": [
            "This is my room\n",
            "This is my car\n",
            "This is our pen\n",
            "This is our property\n"
          ]
        }
      ]
    },
    {
      "cell_type": "markdown",
      "source": [
        "# Polymorphism.\n",
        "\n",
        "Same name of the function but used differentily according to the requirements."
      ],
      "metadata": {
        "id": "7CwEFZTEDJLy"
      }
    },
    {
      "cell_type": "code",
      "source": [
        "#Method Overloading->In a file more than one fxn can exist with the same name but with diff paramertes\n",
        "#Method overloading is not supported in python.\n",
        "#Method Overriding->In a file if you have two functions with the same name then the function which you have created latestly that will gget called."
      ],
      "metadata": {
        "id": "XhXRtNpnfJiR"
      },
      "execution_count": null,
      "outputs": []
    },
    {
      "cell_type": "code",
      "source": [
        "def sum(a,b):\n",
        "  return a+b\n",
        "\n",
        "def sum(a,b,c):\n",
        "  return a+b+c\n",
        "\n",
        "def sum(a,b):\n",
        "  return a+b\n",
        "\n",
        "\n",
        "def sum(a,b,c):\n",
        "  return a+b+c"
      ],
      "metadata": {
        "id": "csrDY2kjDdE8"
      },
      "execution_count": null,
      "outputs": []
    },
    {
      "cell_type": "code",
      "source": [
        "sum(2,4)"
      ],
      "metadata": {
        "colab": {
          "base_uri": "https://localhost:8080/",
          "height": 141
        },
        "id": "ptGp7OPJDjWG",
        "outputId": "e4664f3b-380c-4d73-81c6-c3f76b2b14d6"
      },
      "execution_count": null,
      "outputs": [
        {
          "output_type": "error",
          "ename": "TypeError",
          "evalue": "sum() missing 1 required positional argument: 'c'",
          "traceback": [
            "\u001b[0;31m---------------------------------------------------------------------------\u001b[0m",
            "\u001b[0;31mTypeError\u001b[0m                                 Traceback (most recent call last)",
            "\u001b[0;32m<ipython-input-7-2985093092>\u001b[0m in \u001b[0;36m<cell line: 0>\u001b[0;34m()\u001b[0m\n\u001b[0;32m----> 1\u001b[0;31m \u001b[0msum\u001b[0m\u001b[0;34m(\u001b[0m\u001b[0;36m2\u001b[0m\u001b[0;34m,\u001b[0m\u001b[0;36m4\u001b[0m\u001b[0;34m)\u001b[0m\u001b[0;34m\u001b[0m\u001b[0;34m\u001b[0m\u001b[0m\n\u001b[0m",
            "\u001b[0;31mTypeError\u001b[0m: sum() missing 1 required positional argument: 'c'"
          ]
        }
      ]
    },
    {
      "cell_type": "code",
      "source": [
        "class Father:\n",
        "  def homework(self):\n",
        "    print(\"You have to finish your homework before 6:00 PM\")\n",
        "\n",
        "  def tution(self):\n",
        "    print(\"You have your tution classes at 7:00 PM\")\n",
        "\n",
        "class Son(Father):\n",
        "  def homework(self):\n",
        "    print(\"I will do the homework after my match\")\n",
        "\n",
        "  def match(self):\n",
        "    print(\"I have a match at 5:30 PM\")\n",
        "\n",
        "  def cycling(self):\n",
        "    print(\"I will go to cycling at 4:00 PM\")\n"
      ],
      "metadata": {
        "id": "mPgcVr9zDx2u"
      },
      "execution_count": null,
      "outputs": []
    },
    {
      "cell_type": "code",
      "source": [
        "ob=Son()\n",
        "ob.match()\n",
        "ob.homework()\n",
        "\n",
        "\n",
        "ob1=Father()\n",
        "ob1.homework()"
      ],
      "metadata": {
        "colab": {
          "base_uri": "https://localhost:8080/"
        },
        "id": "_ZLjS72KF9Yb",
        "outputId": "438f8503-68e0-437c-ebd2-06b24f83ae9f"
      },
      "execution_count": null,
      "outputs": [
        {
          "output_type": "stream",
          "name": "stdout",
          "text": [
            "I have a match at 5:30 PM\n",
            "I will do the homework after my match\n",
            "You have to finish your homework before 6:00 PM\n"
          ]
        }
      ]
    },
    {
      "cell_type": "code",
      "source": [
        "class Shape:\n",
        "  def area():\n",
        "    pass\n",
        "\n",
        "class Square(Shape):\n",
        "  def __init__(self,side):\n",
        "    self.side=side\n",
        "\n",
        "  def area(self):\n",
        "    print(self.side*self.side)\n",
        "\n",
        "\n",
        "class Rectangle(Shape):\n",
        "  def __init__(self,length,breadth):\n",
        "    self.length=length\n",
        "    self.breadth=breadth\n",
        "\n",
        "  def area(self):\n",
        "    print(self.length*self.breadth)\n",
        "\n",
        "\n",
        "class Triangle(Shape):\n",
        "  def __init__(self,base,height):\n",
        "    self.base=base\n",
        "    self.height=height\n",
        "\n",
        "  def area(self):\n",
        "    print(0.5*self.base*self.height)"
      ],
      "metadata": {
        "id": "Ma6nHbz7GACg"
      },
      "execution_count": null,
      "outputs": []
    },
    {
      "cell_type": "markdown",
      "source": [
        "# Encapsulation:Protecting the data by hiding it."
      ],
      "metadata": {
        "id": "ixMAKNd9KC0S"
      }
    },
    {
      "cell_type": "code",
      "source": [
        "class bank:\n",
        "  def deposit(self):\n",
        "    print(\"You can deposit cash here\")\n",
        "\n",
        "  def withdraw(self):\n",
        "    print(\"You can withdraw cash here\")\n",
        "\n",
        "  def offers(self):\n",
        "    print(\"Great deals on Credit Cards\")\n",
        "\n",
        "  def __locker(self):    #__ is used to make your function private\n",
        "    print(\"You can access the documnets , jwellery,cash\")\n",
        "\n",
        "  def manager(self):\n",
        "    print(\"How can i help you?\")\n",
        "    print(\"Kindly verify your details\")\n",
        "    self.__locker()"
      ],
      "metadata": {
        "id": "WXR3f2RsHfo-"
      },
      "execution_count": null,
      "outputs": []
    },
    {
      "cell_type": "code",
      "source": [
        "ob=bank()\n",
        "ob.deposit()\n",
        "ob.withdraw()\n",
        "ob.offers()\n",
        "ob.manager()"
      ],
      "metadata": {
        "colab": {
          "base_uri": "https://localhost:8080/"
        },
        "id": "bjLbuWN1LWAm",
        "outputId": "2e2d5239-9065-4cf2-e5cd-fcf64dbb6ae5"
      },
      "execution_count": null,
      "outputs": [
        {
          "output_type": "stream",
          "name": "stdout",
          "text": [
            "You can deposit cash here\n",
            "You can withdraw cash here\n",
            "Great deals on Credit Cards\n",
            "How can i help you?\n",
            "Kindly verify your details\n",
            "You can access the documnets , jwellery,cash\n"
          ]
        }
      ]
    },
    {
      "cell_type": "markdown",
      "source": [
        "# Abstraction:"
      ],
      "metadata": {
        "id": "G4cjtg5uM0Al"
      }
    },
    {
      "cell_type": "code",
      "source": [
        "from abc import ABC , abstractmethod\n",
        "class Car(ABC):             #By inheriting  ABC now my car class is also an abstract class.\n",
        "\n",
        "  @abstractmethod\n",
        "  def engine_start(self):\n",
        "    pass\n",
        "\n",
        "  @abstractmethod\n",
        "  def engine_stop(self):\n",
        "    pass\n",
        "\n",
        "\n",
        "  @abstractmethod\n",
        "  def headlights_on(self):\n",
        "    pass\n",
        "\n",
        "  @abstractmethod\n",
        "  def headlights_off(self):\n",
        "    pass"
      ],
      "metadata": {
        "id": "alYmNB51LYEY"
      },
      "execution_count": null,
      "outputs": []
    },
    {
      "cell_type": "code",
      "source": [
        "import abc\n",
        "help(abc)"
      ],
      "metadata": {
        "colab": {
          "base_uri": "https://localhost:8080/"
        },
        "id": "dYcZXsOyOIFM",
        "outputId": "b6802bfd-3491-4018-a842-f9189ddbb78e"
      },
      "execution_count": null,
      "outputs": [
        {
          "output_type": "stream",
          "name": "stdout",
          "text": [
            "Help on module abc:\n",
            "\n",
            "NAME\n",
            "    abc - Abstract Base Classes (ABCs) according to PEP 3119.\n",
            "\n",
            "MODULE REFERENCE\n",
            "    https://docs.python.org/3.11/library/abc.html\n",
            "    \n",
            "    The following documentation is automatically generated from the Python\n",
            "    source files.  It may be incomplete, incorrect or include features that\n",
            "    are considered implementation detail and may vary between Python\n",
            "    implementations.  When in doubt, consult the module reference at the\n",
            "    location listed above.\n",
            "\n",
            "CLASSES\n",
            "    builtins.classmethod(builtins.object)\n",
            "        abstractclassmethod\n",
            "    builtins.object\n",
            "        ABC\n",
            "    builtins.property(builtins.object)\n",
            "        abstractproperty\n",
            "    builtins.staticmethod(builtins.object)\n",
            "        abstractstaticmethod\n",
            "    builtins.type(builtins.object)\n",
            "        ABCMeta\n",
            "    \n",
            "    class ABC(builtins.object)\n",
            "     |  Helper class that provides a standard way to create an ABC using\n",
            "     |  inheritance.\n",
            "     |  \n",
            "     |  Data and other attributes defined here:\n",
            "     |  \n",
            "     |  __abstractmethods__ = frozenset()\n",
            "    \n",
            "    class ABCMeta(builtins.type)\n",
            "     |  ABCMeta(name, bases, namespace, /, **kwargs)\n",
            "     |  \n",
            "     |  Metaclass for defining Abstract Base Classes (ABCs).\n",
            "     |  \n",
            "     |  Use this metaclass to create an ABC.  An ABC can be subclassed\n",
            "     |  directly, and then acts as a mix-in class.  You can also register\n",
            "     |  unrelated concrete classes (even built-in classes) and unrelated\n",
            "     |  ABCs as 'virtual subclasses' -- these and their descendants will\n",
            "     |  be considered subclasses of the registering ABC by the built-in\n",
            "     |  issubclass() function, but the registering ABC won't show up in\n",
            "     |  their MRO (Method Resolution Order) nor will method\n",
            "     |  implementations defined by the registering ABC be callable (not\n",
            "     |  even via super()).\n",
            "     |  \n",
            "     |  Method resolution order:\n",
            "     |      ABCMeta\n",
            "     |      builtins.type\n",
            "     |      builtins.object\n",
            "     |  \n",
            "     |  Methods defined here:\n",
            "     |  \n",
            "     |  __instancecheck__(cls, instance)\n",
            "     |      Override for isinstance(instance, cls).\n",
            "     |  \n",
            "     |  __subclasscheck__(cls, subclass)\n",
            "     |      Override for issubclass(subclass, cls).\n",
            "     |  \n",
            "     |  register(cls, subclass)\n",
            "     |      Register a virtual subclass of an ABC.\n",
            "     |      \n",
            "     |      Returns the subclass, to allow usage as a class decorator.\n",
            "     |  \n",
            "     |  ----------------------------------------------------------------------\n",
            "     |  Static methods defined here:\n",
            "     |  \n",
            "     |  __new__(mcls, name, bases, namespace, /, **kwargs)\n",
            "     |      Create and return a new object.  See help(type) for accurate signature.\n",
            "     |  \n",
            "     |  ----------------------------------------------------------------------\n",
            "     |  Data and other attributes defined here:\n",
            "     |  \n",
            "     |  __annotations__ = {}\n",
            "     |  \n",
            "     |  ----------------------------------------------------------------------\n",
            "     |  Methods inherited from builtins.type:\n",
            "     |  \n",
            "     |  __call__(self, /, *args, **kwargs)\n",
            "     |      Call self as a function.\n",
            "     |  \n",
            "     |  __delattr__(self, name, /)\n",
            "     |      Implement delattr(self, name).\n",
            "     |  \n",
            "     |  __dir__(self, /)\n",
            "     |      Specialized __dir__ implementation for types.\n",
            "     |  \n",
            "     |  __getattribute__(self, name, /)\n",
            "     |      Return getattr(self, name).\n",
            "     |  \n",
            "     |  __init__(self, /, *args, **kwargs)\n",
            "     |      Initialize self.  See help(type(self)) for accurate signature.\n",
            "     |  \n",
            "     |  __or__(self, value, /)\n",
            "     |      Return self|value.\n",
            "     |  \n",
            "     |  __repr__(self, /)\n",
            "     |      Return repr(self).\n",
            "     |  \n",
            "     |  __ror__(self, value, /)\n",
            "     |      Return value|self.\n",
            "     |  \n",
            "     |  __setattr__(self, name, value, /)\n",
            "     |      Implement setattr(self, name, value).\n",
            "     |  \n",
            "     |  __sizeof__(self, /)\n",
            "     |      Return memory consumption of the type object.\n",
            "     |  \n",
            "     |  __subclasses__(self, /)\n",
            "     |      Return a list of immediate subclasses.\n",
            "     |  \n",
            "     |  mro(self, /)\n",
            "     |      Return a type's method resolution order.\n",
            "     |  \n",
            "     |  ----------------------------------------------------------------------\n",
            "     |  Class methods inherited from builtins.type:\n",
            "     |  \n",
            "     |  __prepare__(...)\n",
            "     |      __prepare__() -> dict\n",
            "     |      used to create the namespace for the class statement\n",
            "     |  \n",
            "     |  ----------------------------------------------------------------------\n",
            "     |  Data descriptors inherited from builtins.type:\n",
            "     |  \n",
            "     |  __abstractmethods__\n",
            "     |  \n",
            "     |  __dict__\n",
            "     |  \n",
            "     |  __text_signature__\n",
            "     |  \n",
            "     |  ----------------------------------------------------------------------\n",
            "     |  Data and other attributes inherited from builtins.type:\n",
            "     |  \n",
            "     |  __base__ = <class 'type'>\n",
            "     |      type(object) -> the object's type\n",
            "     |      type(name, bases, dict, **kwds) -> a new type\n",
            "     |  \n",
            "     |  \n",
            "     |  __bases__ = (<class 'type'>,)\n",
            "     |  \n",
            "     |  __basicsize__ = 904\n",
            "     |  \n",
            "     |  __dictoffset__ = 264\n",
            "     |  \n",
            "     |  __flags__ = 2148029952\n",
            "     |  \n",
            "     |  __itemsize__ = 40\n",
            "     |  \n",
            "     |  __mro__ = (<class 'abc.ABCMeta'>, <class 'type'>, <class 'object'>)\n",
            "     |  \n",
            "     |  __weakrefoffset__ = 368\n",
            "    \n",
            "    class abstractclassmethod(builtins.classmethod)\n",
            "     |  abstractclassmethod(callable)\n",
            "     |  \n",
            "     |  A decorator indicating abstract classmethods.\n",
            "     |  \n",
            "     |  Deprecated, use 'classmethod' with 'abstractmethod' instead:\n",
            "     |  \n",
            "     |      class C(ABC):\n",
            "     |          @classmethod\n",
            "     |          @abstractmethod\n",
            "     |          def my_abstract_classmethod(cls, ...):\n",
            "     |              ...\n",
            "     |  \n",
            "     |  Method resolution order:\n",
            "     |      abstractclassmethod\n",
            "     |      builtins.classmethod\n",
            "     |      builtins.object\n",
            "     |  \n",
            "     |  Methods defined here:\n",
            "     |  \n",
            "     |  __init__(self, callable)\n",
            "     |      Initialize self.  See help(type(self)) for accurate signature.\n",
            "     |  \n",
            "     |  ----------------------------------------------------------------------\n",
            "     |  Data descriptors defined here:\n",
            "     |  \n",
            "     |  __weakref__\n",
            "     |      list of weak references to the object\n",
            "     |  \n",
            "     |  ----------------------------------------------------------------------\n",
            "     |  Data and other attributes defined here:\n",
            "     |  \n",
            "     |  __isabstractmethod__ = True\n",
            "     |  \n",
            "     |  ----------------------------------------------------------------------\n",
            "     |  Methods inherited from builtins.classmethod:\n",
            "     |  \n",
            "     |  __get__(self, instance, owner=None, /)\n",
            "     |      Return an attribute of instance, which is of type owner.\n",
            "     |  \n",
            "     |  __repr__(self, /)\n",
            "     |      Return repr(self).\n",
            "     |  \n",
            "     |  ----------------------------------------------------------------------\n",
            "     |  Static methods inherited from builtins.classmethod:\n",
            "     |  \n",
            "     |  __new__(*args, **kwargs) class method of builtins.classmethod\n",
            "     |      Create and return a new object.  See help(type) for accurate signature.\n",
            "     |  \n",
            "     |  ----------------------------------------------------------------------\n",
            "     |  Data descriptors inherited from builtins.classmethod:\n",
            "     |  \n",
            "     |  __dict__\n",
            "     |  \n",
            "     |  __func__\n",
            "     |  \n",
            "     |  __wrapped__\n",
            "    \n",
            "    class abstractproperty(builtins.property)\n",
            "     |  abstractproperty(fget=None, fset=None, fdel=None, doc=None)\n",
            "     |  \n",
            "     |  A decorator indicating abstract properties.\n",
            "     |  \n",
            "     |  Deprecated, use 'property' with 'abstractmethod' instead:\n",
            "     |  \n",
            "     |      class C(ABC):\n",
            "     |          @property\n",
            "     |          @abstractmethod\n",
            "     |          def my_abstract_property(self):\n",
            "     |              ...\n",
            "     |  \n",
            "     |  Method resolution order:\n",
            "     |      abstractproperty\n",
            "     |      builtins.property\n",
            "     |      builtins.object\n",
            "     |  \n",
            "     |  Data descriptors defined here:\n",
            "     |  \n",
            "     |  __dict__\n",
            "     |      dictionary for instance variables\n",
            "     |  \n",
            "     |  __weakref__\n",
            "     |      list of weak references to the object\n",
            "     |  \n",
            "     |  ----------------------------------------------------------------------\n",
            "     |  Data and other attributes defined here:\n",
            "     |  \n",
            "     |  __isabstractmethod__ = True\n",
            "     |  \n",
            "     |  ----------------------------------------------------------------------\n",
            "     |  Methods inherited from builtins.property:\n",
            "     |  \n",
            "     |  __delete__(self, instance, /)\n",
            "     |      Delete an attribute of instance.\n",
            "     |  \n",
            "     |  __get__(self, instance, owner=None, /)\n",
            "     |      Return an attribute of instance, which is of type owner.\n",
            "     |  \n",
            "     |  __getattribute__(self, name, /)\n",
            "     |      Return getattr(self, name).\n",
            "     |  \n",
            "     |  __init__(self, /, *args, **kwargs)\n",
            "     |      Initialize self.  See help(type(self)) for accurate signature.\n",
            "     |  \n",
            "     |  __set__(self, instance, value, /)\n",
            "     |      Set an attribute of instance to value.\n",
            "     |  \n",
            "     |  __set_name__(...)\n",
            "     |      Method to set name of a property.\n",
            "     |  \n",
            "     |  deleter(...)\n",
            "     |      Descriptor to obtain a copy of the property with a different deleter.\n",
            "     |  \n",
            "     |  getter(...)\n",
            "     |      Descriptor to obtain a copy of the property with a different getter.\n",
            "     |  \n",
            "     |  setter(...)\n",
            "     |      Descriptor to obtain a copy of the property with a different setter.\n",
            "     |  \n",
            "     |  ----------------------------------------------------------------------\n",
            "     |  Static methods inherited from builtins.property:\n",
            "     |  \n",
            "     |  __new__(*args, **kwargs) class method of builtins.property\n",
            "     |      Create and return a new object.  See help(type) for accurate signature.\n",
            "     |  \n",
            "     |  ----------------------------------------------------------------------\n",
            "     |  Data descriptors inherited from builtins.property:\n",
            "     |  \n",
            "     |  fdel\n",
            "     |  \n",
            "     |  fget\n",
            "     |  \n",
            "     |  fset\n",
            "    \n",
            "    class abstractstaticmethod(builtins.staticmethod)\n",
            "     |  abstractstaticmethod(callable)\n",
            "     |  \n",
            "     |  A decorator indicating abstract staticmethods.\n",
            "     |  \n",
            "     |  Deprecated, use 'staticmethod' with 'abstractmethod' instead:\n",
            "     |  \n",
            "     |      class C(ABC):\n",
            "     |          @staticmethod\n",
            "     |          @abstractmethod\n",
            "     |          def my_abstract_staticmethod(...):\n",
            "     |              ...\n",
            "     |  \n",
            "     |  Method resolution order:\n",
            "     |      abstractstaticmethod\n",
            "     |      builtins.staticmethod\n",
            "     |      builtins.object\n",
            "     |  \n",
            "     |  Methods defined here:\n",
            "     |  \n",
            "     |  __init__(self, callable)\n",
            "     |      Initialize self.  See help(type(self)) for accurate signature.\n",
            "     |  \n",
            "     |  ----------------------------------------------------------------------\n",
            "     |  Data descriptors defined here:\n",
            "     |  \n",
            "     |  __weakref__\n",
            "     |      list of weak references to the object\n",
            "     |  \n",
            "     |  ----------------------------------------------------------------------\n",
            "     |  Data and other attributes defined here:\n",
            "     |  \n",
            "     |  __isabstractmethod__ = True\n",
            "     |  \n",
            "     |  ----------------------------------------------------------------------\n",
            "     |  Methods inherited from builtins.staticmethod:\n",
            "     |  \n",
            "     |  __call__(self, /, *args, **kwargs)\n",
            "     |      Call self as a function.\n",
            "     |  \n",
            "     |  __get__(self, instance, owner=None, /)\n",
            "     |      Return an attribute of instance, which is of type owner.\n",
            "     |  \n",
            "     |  __repr__(self, /)\n",
            "     |      Return repr(self).\n",
            "     |  \n",
            "     |  ----------------------------------------------------------------------\n",
            "     |  Static methods inherited from builtins.staticmethod:\n",
            "     |  \n",
            "     |  __new__(*args, **kwargs) class method of builtins.staticmethod\n",
            "     |      Create and return a new object.  See help(type) for accurate signature.\n",
            "     |  \n",
            "     |  ----------------------------------------------------------------------\n",
            "     |  Data descriptors inherited from builtins.staticmethod:\n",
            "     |  \n",
            "     |  __dict__\n",
            "     |  \n",
            "     |  __func__\n",
            "     |  \n",
            "     |  __wrapped__\n",
            "\n",
            "FUNCTIONS\n",
            "    abstractmethod(funcobj)\n",
            "        A decorator indicating abstract methods.\n",
            "        \n",
            "        Requires that the metaclass is ABCMeta or derived from it.  A\n",
            "        class that has a metaclass derived from ABCMeta cannot be\n",
            "        instantiated unless all of its abstract methods are overridden.\n",
            "        The abstract methods can be called using any of the normal\n",
            "        'super' call mechanisms.  abstractmethod() may be used to declare\n",
            "        abstract methods for properties and descriptors.\n",
            "        \n",
            "        Usage:\n",
            "        \n",
            "            class C(metaclass=ABCMeta):\n",
            "                @abstractmethod\n",
            "                def my_abstract_method(self, arg1, arg2, argN):\n",
            "                    ...\n",
            "    \n",
            "    get_cache_token()\n",
            "        Returns the current ABC cache token.\n",
            "        \n",
            "        The token is an opaque object (supporting equality testing) identifying the\n",
            "        current version of the ABC cache for virtual subclasses. The token changes\n",
            "        with every call to register() on any ABC.\n",
            "    \n",
            "    update_abstractmethods(cls)\n",
            "        Recalculate the set of abstract methods of an abstract class.\n",
            "        \n",
            "        If a class has had one of its abstract methods implemented after the\n",
            "        class was created, the method will not be considered implemented until\n",
            "        this function is called. Alternatively, if a new abstract method has been\n",
            "        added to the class, it will only be considered an abstract method of the\n",
            "        class after this function is called.\n",
            "        \n",
            "        This function should be called before any use is made of the class,\n",
            "        usually in class decorators that add methods to the subject class.\n",
            "        \n",
            "        Returns cls, to allow usage as a class decorator.\n",
            "        \n",
            "        If cls is not an instance of ABCMeta, does nothing.\n",
            "\n",
            "FILE\n",
            "    /usr/lib/python3.11/abc.py\n",
            "\n",
            "\n"
          ]
        }
      ]
    },
    {
      "cell_type": "code",
      "source": [
        "class Hundai(Car):\n",
        "  def automatic(self):\n",
        "    print(\"we have automatic cars\")"
      ],
      "metadata": {
        "id": "6tSkqiWSOUz4"
      },
      "execution_count": null,
      "outputs": []
    },
    {
      "cell_type": "code",
      "source": [
        "ob=Hundai()"
      ],
      "metadata": {
        "colab": {
          "base_uri": "https://localhost:8080/",
          "height": 141
        },
        "id": "BlGBLnrUQhMB",
        "outputId": "2c59bb93-4d7c-4c1d-8b56-79ebb9e3d577"
      },
      "execution_count": null,
      "outputs": [
        {
          "output_type": "error",
          "ename": "TypeError",
          "evalue": "Can't instantiate abstract class Hundai with abstract methods engine_start, engine_stop, headlights_off, headlights_on",
          "traceback": [
            "\u001b[0;31m---------------------------------------------------------------------------\u001b[0m",
            "\u001b[0;31mTypeError\u001b[0m                                 Traceback (most recent call last)",
            "\u001b[0;32m<ipython-input-37-300307659>\u001b[0m in \u001b[0;36m<cell line: 0>\u001b[0;34m()\u001b[0m\n\u001b[0;32m----> 1\u001b[0;31m \u001b[0mob\u001b[0m\u001b[0;34m=\u001b[0m\u001b[0mHundai\u001b[0m\u001b[0;34m(\u001b[0m\u001b[0;34m)\u001b[0m\u001b[0;34m\u001b[0m\u001b[0;34m\u001b[0m\u001b[0m\n\u001b[0m",
            "\u001b[0;31mTypeError\u001b[0m: Can't instantiate abstract class Hundai with abstract methods engine_start, engine_stop, headlights_off, headlights_on"
          ]
        }
      ]
    },
    {
      "cell_type": "code",
      "source": [
        "from abc import ABC,abstractmethod\n",
        "class Bank(ABC):\n",
        "\n",
        "  @abstractmethod\n",
        "  def loan_interest(self):\n",
        "   pass\n",
        "\n",
        "\n",
        "  @abstractmethod\n",
        "  def deposit(self):\n",
        "    pass"
      ],
      "metadata": {
        "id": "FDnDAj39QiMt"
      },
      "execution_count": null,
      "outputs": []
    },
    {
      "cell_type": "code",
      "source": [
        "class ATM(Bank):\n",
        "  def loan_interest(self):\n",
        "    print(\"Loan interset is 10 %\")\n",
        "\n",
        "  def deposit(self):\n",
        "    print(\"You can deposit the cash here\")"
      ],
      "metadata": {
        "id": "qZJQi9QsRoWi"
      },
      "execution_count": null,
      "outputs": []
    },
    {
      "cell_type": "code",
      "source": [
        "ob=ATM()\n",
        "ob.loan_interest()\n",
        "ob.deposit()"
      ],
      "metadata": {
        "colab": {
          "base_uri": "https://localhost:8080/"
        },
        "id": "kfK-kjHgRxne",
        "outputId": "5569c709-0e8e-4bbc-9e93-95f856614bfd"
      },
      "execution_count": null,
      "outputs": [
        {
          "output_type": "stream",
          "name": "stdout",
          "text": [
            "Loan interset is 10 %\n",
            "You can deposit the cash here\n"
          ]
        }
      ]
    },
    {
      "cell_type": "code",
      "source": [
        "#9:50   Break"
      ],
      "metadata": {
        "id": "B5NhZ0drR2UN"
      },
      "execution_count": null,
      "outputs": []
    }
  ]
}